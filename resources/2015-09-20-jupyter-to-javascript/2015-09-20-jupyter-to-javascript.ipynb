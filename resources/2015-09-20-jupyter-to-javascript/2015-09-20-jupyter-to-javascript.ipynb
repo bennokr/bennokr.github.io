{
 "cells": [
  {
   "cell_type": "code",
   "execution_count": 18,
   "metadata": {
    "collapsed": false
   },
   "outputs": [
    {
     "data": {
      "text/html": [
       "<script src=\"http://d3js.org/d3.v3.min.js\"></script>"
      ],
      "text/plain": [
       "<IPython.core.display.HTML object>"
      ]
     },
     "metadata": {},
     "output_type": "display_data"
    }
   ],
   "source": [
    "%%HTML\n",
    "<script src=\"http://d3js.org/d3.v3.min.js\"></script>"
   ]
  },
  {
   "cell_type": "markdown",
   "metadata": {},
   "source": [
    "I like doing experiments in IPython notebook, or [Jupyter](http://jupyter.org) as it's known these days. But why would I keep all the fun to myself? I want to show my results to the world!\n",
    "\n",
    "I'd like to use run an experiment, and then use the data to make cool interactive visualizations. Then I want to publish them to the web. Let's see if it works!"
   ]
  },
  {
   "cell_type": "markdown",
   "metadata": {},
   "source": [
    "# Running code in the browser\n",
    "Here's a script that adds some text to the output cell:"
   ]
  },
  {
   "cell_type": "code",
   "execution_count": 2,
   "metadata": {
    "collapsed": false
   },
   "outputs": [
    {
     "data": {
      "application/javascript": [
       "element.append('Hello World!')"
      ],
      "text/plain": [
       "<IPython.core.display.Javascript object>"
      ]
     },
     "metadata": {},
     "output_type": "display_data"
    }
   ],
   "source": [
    "%%javascript\n",
    "element.append('Hello World!')"
   ]
  },
  {
   "cell_type": "markdown",
   "metadata": {},
   "source": [
    "# Using data from an old run\n",
    "Now I'm running some Python code that sets a Javascript variable in its output."
   ]
  },
  {
   "cell_type": "code",
   "execution_count": 7,
   "metadata": {
    "collapsed": false
   },
   "outputs": [],
   "source": [
    "from IPython.display import Javascript\n",
    "import json\n",
    "\n",
    "dutch_cities_population = {\n",
    "    'Amsterdam': 826659,\n",
    "    'Rotterdam': 619879,\n",
    "    'Den Haag': 510909,\n",
    "    'Utrecht': 330772\n",
    "}\n",
    "\n",
    "json.dump(dutch_cities_population, open('dutch_cities_population.json', 'w'))"
   ]
  },
  {
   "cell_type": "code",
   "execution_count": 20,
   "metadata": {
    "collapsed": false
   },
   "outputs": [
    {
     "data": {
      "application/javascript": [
       "d3.json(\"./dutch_cities_population.json\", function(error, populations) {\n",
       "  $.each(populations, function( key, value ) {\n",
       "      var button = $('<button></button>');\n",
       "      button.text(key);\n",
       "      button.click(function() { alert(key + '\\'s population is ' + value); }  );\n",
       "      element.append(button);\n",
       "  });\n",
       "});"
      ],
      "text/plain": [
       "<IPython.core.display.Javascript object>"
      ]
     },
     "metadata": {},
     "output_type": "display_data"
    }
   ],
   "source": [
    "%%javascript\n",
    "d3.json(\"./dutch_cities_population.json\", function(error, populations) {\n",
    "  $.each(populations, function( key, value ) {\n",
    "      var button = $('<button></button>');\n",
    "      button.text(key);\n",
    "      button.click(function() { alert(key + '\\'s population is ' + value); }  );\n",
    "      element.append(button);\n",
    "  });\n",
    "});"
   ]
  },
  {
   "cell_type": "markdown",
   "metadata": {},
   "source": [
    "# Blogging\n",
    "The configuration that I use to turn it into a Jekyll blog post is in [this gist](https://gist.github.com/bennokr/13293234eaf57bac887a)."
   ]
  }
 ],
 "metadata": {
  "kernelspec": {
   "display_name": "Python 2",
   "language": "python",
   "name": "python2"
  },
  "language_info": {
   "codemirror_mode": {
    "name": "ipython",
    "version": 2
   },
   "file_extension": ".py",
   "mimetype": "text/x-python",
   "name": "python",
   "nbconvert_exporter": "python",
   "pygments_lexer": "ipython2",
   "version": "2.7.10"
  }
 },
 "nbformat": 4,
 "nbformat_minor": 0
}
