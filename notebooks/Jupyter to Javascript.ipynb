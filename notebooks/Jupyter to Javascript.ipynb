{
 "metadata": {
  "name": "",
  "signature": "sha256:bfc598abda391ccadd74c1faf9ac87f90b0cfa7d8c0e8edf3fdbac0c2e20d0e4"
 },
 "nbformat": 3,
 "nbformat_minor": 0,
 "worksheets": [
  {
   "cells": [
    {
     "cell_type": "markdown",
     "metadata": {},
     "source": [
      "I like doing experiments in IPython notebook, or [Jupyter](http://jupyter.org) as it's known these days. But why would I keep all the fun to myself? I want to show my results to the world!\n",
      "\n",
      "I'd like to use run an experiment, and then use the data to make cool interactive visualizations. Then I want to publish them to the web. Let's see if it works!"
     ]
    },
    {
     "cell_type": "markdown",
     "metadata": {},
     "source": [
      "# Running code in the browser\n",
      "Here's a script that adds some text to the output cell:"
     ]
    },
    {
     "cell_type": "code",
     "collapsed": false,
     "input": [
      "%%javascript\n",
      "element.append('Hello World!')"
     ],
     "language": "python",
     "metadata": {},
     "outputs": [
      {
       "javascript": [
        "element.append('Hello World!')"
       ],
       "metadata": {},
       "output_type": "display_data",
       "text": [
        "<IPython.core.display.Javascript at 0x1109640d0>"
       ]
      }
     ],
     "prompt_number": 1
    },
    {
     "cell_type": "markdown",
     "metadata": {},
     "source": [
      "# Using data from an old run\n",
      "Now I'm running some Python code that sets a Javascript variable in its output."
     ]
    },
    {
     "cell_type": "code",
     "collapsed": false,
     "input": [
      "from IPython.display import Javascript\n",
      "import json\n",
      "\n",
      "dutch_cities_population = {\n",
      "    'Amsterdam': 826659,\n",
      "    'Rotterdam': 619879,\n",
      "    'Den Haag': 510909,\n",
      "    'Utrecht': 330772\n",
      "}\n",
      "\n",
      "Javascript(\"window.populations=\" + json.dumps(dutch_cities_population))"
     ],
     "language": "python",
     "metadata": {},
     "outputs": [
      {
       "javascript": [
        "window.populations={\"Amsterdam\": 826659, \"Rotterdam\": 619879, \"Utrecht\": 330772, \"Den Haag\": 510909}"
       ],
       "metadata": {},
       "output_type": "pyout",
       "prompt_number": 2,
       "text": [
        "<IPython.core.display.Javascript at 0x110964d10>"
       ]
      }
     ],
     "prompt_number": 2
    },
    {
     "cell_type": "code",
     "collapsed": false,
     "input": [
      "%%javascript\n",
      "$.each(populations, function( key, value ) {\n",
      "    var button = $('<button></button>');\n",
      "    button.text(key);\n",
      "    button.click(function() { alert(key + '\\'s population is ' + value); }  );\n",
      "    element.append(button);\n",
      "});"
     ],
     "language": "python",
     "metadata": {},
     "outputs": [
      {
       "javascript": [
        "$.each(populations, function( key, value ) {\n",
        "    var button = $('<button></button>');\n",
        "    button.text(key);\n",
        "    button.click(function() { alert(key + '\\'s population is ' + value); }  );\n",
        "    element.append(button);\n",
        "});"
       ],
       "metadata": {},
       "output_type": "display_data",
       "text": [
        "<IPython.core.display.Javascript at 0x10f2e25d0>"
       ]
      }
     ],
     "prompt_number": 7
    },
    {
     "cell_type": "markdown",
     "metadata": {},
     "source": [
      "# Blogging\n",
      "The configuration that I use to turn it into a Jekyll blog post is in [this gist](https://gist.github.com/bennokr/13293234eaf57bac887a)."
     ]
    }
   ],
   "metadata": {}
  }
 ]
}